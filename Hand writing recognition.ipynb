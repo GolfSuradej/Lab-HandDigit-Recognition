{
 "cells": [
  {
   "cell_type": "markdown",
   "metadata": {},
   "source": [
    "## Neural Network and Machine Learning for Signal Processing Workshop for EST's internship 2018 \n",
    "\n",
    "Author : Suradej Dunapummet\n",
    "\n",
    "Advance Automation and Electronics Research Unit, NECTEC\n",
    "\n",
    "Created : June 13, 2018"
   ]
  },
  {
   "cell_type": "markdown",
   "metadata": {},
   "source": [
    "###  Lab 15 : Handwritten digit recognition \n",
    "Aims:\n",
    "\n",
    "1.How to develop and evaluate a simple neural network called Multilayer Perceptron, MLP.\n",
    "\n",
    "2.How to implement and evaluate a simple Convolutional Neural Network, CNN.\n",
    "##### Import Library"
   ]
  },
  {
   "cell_type": "code",
   "execution_count": 49,
   "metadata": {
    "collapsed": true
   },
   "outputs": [],
   "source": [
    "import numpy as np\n",
    "import matplotlib.pyplot as plt"
   ]
  },
  {
   "cell_type": "markdown",
   "metadata": {},
   "source": [
    "### MNIST dataset\n",
    "The MNIST problem is a dataset developed by Yann LeCun, Corinna Cortes and Christopher Burges for evaluating machine learning models on the handwritten digit classification problem.\n",
    "\n",
    "The dataset was constructed from a number of scanned document dataset available from the National Institute of Standards and Technology (NIST). This is where the name for the dataset comes from, as the Modified NIST or MNIST dataset."
   ]
  },
  {
   "cell_type": "raw",
   "metadata": {},
   "source": [
    "from keras.datasets import mnist"
   ]
  },
  {
   "cell_type": "code",
   "execution_count": 99,
   "metadata": {},
   "outputs": [
    {
     "name": "stdout",
     "output_type": "stream",
     "text": [
      "(60000, 28, 28)\n"
     ]
    }
   ],
   "source": [
    "(x_train, y_train), (x_test, y_test) = mnist.load_data()\n",
    "print(x_train.shape)"
   ]
  },
  {
   "cell_type": "code",
   "execution_count": 100,
   "metadata": {},
   "outputs": [
    {
     "data": {
      "image/png": "[encoded data removed]",
      "text/plain": [
       "<matplotlib.figure.Figure at 0x22384781240>"
      ]
     },
     "metadata": {},
     "output_type": "display_data"
    }
   ],
   "source": [
    "# plot 4 images as gray scale\n",
    "plt.subplot(221)\n",
    "plt.imshow(x_train[0], cmap=plt.get_cmap('gray'))\n",
    "plt.subplot(222)\n",
    "plt.imshow(x_train[1], cmap=plt.get_cmap('gray'))\n",
    "plt.subplot(223)\n",
    "plt.imshow(x_train[2], cmap=plt.get_cmap('gray'))\n",
    "plt.subplot(224)\n",
    "plt.imshow(x_train[3], cmap=plt.get_cmap('gray'))\n",
    "# show the plot\n",
    "plt.show()"
   ]
  },
  {
   "cell_type": "markdown",
   "metadata": {},
   "source": [
    "### reshape and normalize the input from 0-255 to 0-1"
   ]
  },
  {
   "cell_type": "code",
   "execution_count": 155,
   "metadata": {
    "collapsed": true
   },
   "outputs": [],
   "source": [
    "(x_train, y_train), (x_test, y_test) = mnist.load_data()\n",
    "x_train = x_train.astype(np.float32).reshape((x_train.shape[0],28*28))/255.0\n",
    "x_test = x_test.astype(np.float32).reshape((x_test.shape[0],28*28))/255.0"
   ]
  },
  {
   "cell_type": "markdown",
   "metadata": {},
   "source": [
    "It is a digit recognition task. As such there are 10 digits (0 to 9) or 10 classes to predict. We can use a one hot encoding of the class values, transforming the vector of class integers into a binary matrix."
   ]
  },
  {
   "cell_type": "code",
   "execution_count": 156,
   "metadata": {
    "collapsed": true
   },
   "outputs": [],
   "source": [
    "y_train = np_utils.to_categorical(y_train)\n",
    "y_test = np_utils.to_categorical(y_test)\n",
    "num_classes = y_test.shape[1]"
   ]
  },
  {
   "cell_type": "code",
   "execution_count": 157,
   "metadata": {},
   "outputs": [
    {
     "data": {
      "text/plain": [
       "(60000, 10)"
      ]
     },
     "execution_count": 157,
     "metadata": {},
     "output_type": "execute_result"
    }
   ],
   "source": [
    "y_train.shape"
   ]
  },
  {
   "cell_type": "code",
   "execution_count": 158,
   "metadata": {},
   "outputs": [
    {
     "name": "stdout",
     "output_type": "stream",
     "text": [
      "One hot vector looks like : [ 0.  0.  0.  0.  0.  1.  0.  0.  0.  0.]\n"
     ]
    }
   ],
   "source": [
    "print(\"One hot vector looks like :\",y_train[0])"
   ]
  },
  {
   "cell_type": "markdown",
   "metadata": {},
   "source": [
    "To initialize the random number generator to a constant to ensure that the results of your script are reproducible."
   ]
  },
  {
   "cell_type": "code",
   "execution_count": 159,
   "metadata": {
    "collapsed": true
   },
   "outputs": [],
   "source": [
    "seed = 7\n",
    "np.random.seed(seed)"
   ]
  },
  {
   "cell_type": "code",
   "execution_count": 160,
   "metadata": {
    "collapsed": true
   },
   "outputs": [],
   "source": [
    "epochs = 10\n",
    "batch_size = 64"
   ]
  },
  {
   "cell_type": "markdown",
   "metadata": {},
   "source": [
    "# 1. Multilayer Perceptron, MLP"
   ]
  },
  {
   "cell_type": "markdown",
   "metadata": {},
   "source": [
    "![title](mnistMLP.png)\n",
    "\n",
    "ref:http://corochann.com/mnist-training-with-multi-layer-perceptron-1149.html"
   ]
  },
  {
   "cell_type": "code",
   "execution_count": 161,
   "metadata": {
    "collapsed": true
   },
   "outputs": [],
   "source": [
    "from keras.models import Sequential\n",
    "from keras.layers import Dense\n",
    "from keras.layers import Dropout\n",
    "from keras.utils import np_utils"
   ]
  },
  {
   "cell_type": "markdown",
   "metadata": {},
   "source": [
    "Fully connected feedforward network \n",
    "\n",
    "Hidden node = 100\n",
    "\n",
    "Activation function = sigmoid "
   ]
  },
  {
   "cell_type": "code",
   "execution_count": 162,
   "metadata": {},
   "outputs": [
    {
     "name": "stdout",
     "output_type": "stream",
     "text": [
      "_________________________________________________________________\n",
      "Layer (type)                 Output Shape              Param #   \n",
      "=================================================================\n",
      "dense_42 (Dense)             (None, 1000)              785000    \n",
      "_________________________________________________________________\n",
      "dense_43 (Dense)             (None, 10)                10010     \n",
      "=================================================================\n",
      "Total params: 795,010\n",
      "Trainable params: 795,010\n",
      "Non-trainable params: 0\n",
      "_________________________________________________________________\n"
     ]
    }
   ],
   "source": [
    "mlp = Sequential()\n",
    "mlp.add(Dense (1000, input_dim = 784, activation = 'sigmoid'))\n",
    "#mlp.add(Dense (500, input_dim = 784, activation = 'sigmoid'))\n",
    "mlp.add(Dense (10, activation='sigmoid'))\n",
    "mlp.compile(loss='categorical_crossentropy',optimizer='adam',metrics=['accuracy'])\n",
    "mlp.summary()"
   ]
  },
  {
   "cell_type": "code",
   "execution_count": 163,
   "metadata": {},
   "outputs": [
    {
     "name": "stdout",
     "output_type": "stream",
     "text": [
      "Epoch 1/10\n",
      "60000/60000 [==============================] - 24s 395us/step - loss: 0.3698 - acc: 0.8919\n",
      "Epoch 2/10\n",
      "60000/60000 [==============================] - 23s 376us/step - loss: 0.2065 - acc: 0.9393\n",
      "Epoch 3/10\n",
      "60000/60000 [==============================] - 24s 400us/step - loss: 0.1444 - acc: 0.9577\n",
      "Epoch 4/10\n",
      "60000/60000 [==============================] - 24s 404us/step - loss: 0.1053 - acc: 0.9687\n",
      "Epoch 5/10\n",
      "60000/60000 [==============================] - 24s 393us/step - loss: 0.0818 - acc: 0.9759\n",
      "Epoch 6/10\n",
      "60000/60000 [==============================] - 23s 376us/step - loss: 0.0627 - acc: 0.9812\n",
      "Epoch 7/10\n",
      "60000/60000 [==============================] - 23s 390us/step - loss: 0.0504 - acc: 0.9846\n",
      "Epoch 8/10\n",
      "60000/60000 [==============================] - 23s 388us/step - loss: 0.0381 - acc: 0.9885\n",
      "Epoch 9/10\n",
      "60000/60000 [==============================] - 24s 399us/step - loss: 0.0302 - acc: 0.9913\n",
      "Epoch 10/10\n",
      "60000/60000 [==============================] - 24s 404us/step - loss: 0.0234 - acc: 0.9930\n"
     ]
    },
    {
     "data": {
      "text/plain": [
       "<keras.callbacks.History at 0x2238f1f4e10>"
      ]
     },
     "execution_count": 163,
     "metadata": {},
     "output_type": "execute_result"
    }
   ],
   "source": [
    "mlp.fit(x_train, y_train, batch_size=batch_size, epochs=epochs, shuffle=True, verbose=1)"
   ]
  },
  {
   "cell_type": "markdown",
   "metadata": {},
   "source": [
    "### Evaluate Multilayer percepton "
   ]
  },
  {
   "cell_type": "code",
   "execution_count": 165,
   "metadata": {},
   "outputs": [
    {
     "name": "stdout",
     "output_type": "stream",
     "text": [
      "MLP Error: 93.36%\n"
     ]
    }
   ],
   "source": [
    "score = mlp.evaluate(x_test, y_test, verbose = 0)\n",
    "print(\"MLP Error: %.2f%%\" % (100-score[0]*100))"
   ]
  },
  {
   "cell_type": "markdown",
   "metadata": {},
   "source": [
    "# 2. Convolutional Neural Network, CNN"
   ]
  },
  {
   "cell_type": "markdown",
   "metadata": {},
   "source": [
    "![title](mnistCNN2.png)\n",
    "Ref: LeCun et al., 1998"
   ]
  },
  {
   "cell_type": "code",
   "execution_count": 167,
   "metadata": {
    "collapsed": true
   },
   "outputs": [],
   "source": [
    "(x_train, y_train), (x_test, y_test) = mnist.load_data()\n",
    "x_train = x_train.astype(np.float32).reshape((x_train.shape[0],28,28,1))/255.0\n",
    "x_test = x_test.astype(np.float32).reshape((x_test.shape[0],28,28,1))/255.0\n",
    "y_train = np_utils.to_categorical(y_train)\n",
    "y_test = np_utils.to_categorical(y_test)\n",
    "num_classes = y_test.shape[1]"
   ]
  },
  {
   "cell_type": "code",
   "execution_count": 124,
   "metadata": {},
   "outputs": [
    {
     "data": {
      "text/plain": [
       "(60000, 28, 28, 1)"
      ]
     },
     "execution_count": 124,
     "metadata": {},
     "output_type": "execute_result"
    }
   ],
   "source": [
    "x_train.shape"
   ]
  },
  {
   "cell_type": "code",
   "execution_count": 121,
   "metadata": {
    "collapsed": true
   },
   "outputs": [],
   "source": [
    "from keras.layers import (Conv2D, MaxPooling2D, BatchNormalization, Activation, Flatten)"
   ]
  },
  {
   "cell_type": "code",
   "execution_count": 152,
   "metadata": {},
   "outputs": [
    {
     "name": "stdout",
     "output_type": "stream",
     "text": [
      "_________________________________________________________________\n",
      "Layer (type)                 Output Shape              Param #   \n",
      "=================================================================\n",
      "conv2d_19 (Conv2D)           (None, 28, 28, 10)        90        \n",
      "_________________________________________________________________\n",
      "activation_14 (Activation)   (None, 28, 28, 10)        0         \n",
      "_________________________________________________________________\n",
      "flatten_13 (Flatten)         (None, 7840)              0         \n",
      "_________________________________________________________________\n",
      "dense_41 (Dense)             (None, 10)                78410     \n",
      "=================================================================\n",
      "Total params: 78,500\n",
      "Trainable params: 78,500\n",
      "Non-trainable params: 0\n",
      "_________________________________________________________________\n"
     ]
    }
   ],
   "source": [
    "cnn = Sequential()\n",
    "cnn.add( Conv2D (10, (3,3), padding='same', use_bias=False, data_format = 'channels_last', input_shape =(28,28,1)))\n",
    "#cnn.add( BatchNormalization(axis=-1))\n",
    "cnn.add( Activation('relu'))\n",
    "#cnn.add( MaxPooling2D(pool_size=(2,2),data_format='channels_last'))\n",
    "cnn.add(Flatten())\n",
    "cnn.add( Dense(10, activation='softmax'))\n",
    "cnn.compile(loss='categorical_crossentropy',optimizer='adam',metrics=['accuracy'])\n",
    "cnn.summary()"
   ]
  },
  {
   "cell_type": "code",
   "execution_count": 153,
   "metadata": {},
   "outputs": [
    {
     "name": "stdout",
     "output_type": "stream",
     "text": [
      "Epoch 1/10\n",
      "60000/60000 [==============================] - 19s 311us/step - loss: 0.2879 - acc: 0.9205\n",
      "Epoch 2/10\n",
      "60000/60000 [==============================] - 19s 310us/step - loss: 0.1215 - acc: 0.9648\n",
      "Epoch 3/10\n",
      "60000/60000 [==============================] - 18s 303us/step - loss: 0.0824 - acc: 0.9766\n",
      "Epoch 4/10\n",
      "60000/60000 [==============================] - 19s 317us/step - loss: 0.0641 - acc: 0.9816\n",
      "Epoch 5/10\n",
      "60000/60000 [==============================] - 19s 316us/step - loss: 0.0535 - acc: 0.98431s - loss: 0.0\n",
      "Epoch 6/10\n",
      "60000/60000 [==============================] - 18s 301us/step - loss: 0.0450 - acc: 0.9865\n",
      "Epoch 7/10\n",
      "60000/60000 [==============================] - 19s 314us/step - loss: 0.0395 - acc: 0.98810s - loss: 0.0396 - acc: 0.\n",
      "Epoch 8/10\n",
      "60000/60000 [==============================] - 18s 307us/step - loss: 0.0340 - acc: 0.9901\n",
      "Epoch 9/10\n",
      "60000/60000 [==============================] - 18s 308us/step - loss: 0.0300 - acc: 0.9911\n",
      "Epoch 10/10\n",
      "60000/60000 [==============================] - 19s 314us/step - loss: 0.0263 - acc: 0.9924\n"
     ]
    },
    {
     "data": {
      "text/plain": [
       "<keras.callbacks.History at 0x2238f29d358>"
      ]
     },
     "execution_count": 153,
     "metadata": {},
     "output_type": "execute_result"
    }
   ],
   "source": [
    "cnn.fit(x_train, y_train,batch_size=batch_size, epochs=epochs, shuffle=True,verbose=1)"
   ]
  },
  {
   "cell_type": "markdown",
   "metadata": {},
   "source": [
    "## Evaluate CNN model "
   ]
  },
  {
   "cell_type": "code",
   "execution_count": 168,
   "metadata": {},
   "outputs": [
    {
     "name": "stdout",
     "output_type": "stream",
     "text": [
      "CNN Error: 93.09%\n"
     ]
    }
   ],
   "source": [
    "score = cnn.evaluate(x_test, y_test, verbose = 0)\n",
    "print(\"CNN Error: %.2f%%\" % (100-score[0]*100))"
   ]
  },
  {
   "cell_type": "markdown",
   "metadata": {},
   "source": [
    "# 3. Larger Convolutional Neural Network\n",
    "\n",
    "\n",
    "We try to add more layers and more features on each layer, for example,\n",
    "\n",
    "Two Convolutional layers with 30 feature maps of size 5×5 and 15 feature maps of size 3×3\n",
    "\n",
    "Fully connected layer with 128 neurons and rectifier activation.\n",
    "\n",
    "Fully connected layer with 50 neurons and rectifier activation."
   ]
  },
  {
   "cell_type": "code",
   "execution_count": 143,
   "metadata": {
    "collapsed": true
   },
   "outputs": [],
   "source": [
    "# load data\n",
    "(x_train, y_train), (X_test, y_test) = mnist.load_data()\n",
    "# reshape to be [samples][width][height][pixels]\n",
    "x_train = x_train.reshape(x_train.shape[0], 28, 28,1).astype('float32')\n",
    "x_test = x_test.reshape(x_test.shape[0], 28, 28,1).astype('float32')\n",
    "# normalize inputs from 0-255 to 0-1\n",
    "x_train = x_train / 255\n",
    "x_test = x_test / 255\n",
    "# one hot encode outputs\n",
    "y_train = np_utils.to_categorical(y_train)\n",
    "y_test = np_utils.to_categorical(y_test)\n",
    "num_classes = y_test.shape[1]"
   ]
  },
  {
   "cell_type": "code",
   "execution_count": 144,
   "metadata": {},
   "outputs": [
    {
     "name": "stdout",
     "output_type": "stream",
     "text": [
      "_________________________________________________________________\n",
      "Layer (type)                 Output Shape              Param #   \n",
      "=================================================================\n",
      "conv2d_16 (Conv2D)           (None, 24, 24, 30)        780       \n",
      "_________________________________________________________________\n",
      "max_pooling2d_13 (MaxPooling (None, 12, 12, 30)        0         \n",
      "_________________________________________________________________\n",
      "conv2d_17 (Conv2D)           (None, 10, 10, 15)        4065      \n",
      "_________________________________________________________________\n",
      "max_pooling2d_14 (MaxPooling (None, 5, 5, 15)          0         \n",
      "_________________________________________________________________\n",
      "dropout_2 (Dropout)          (None, 5, 5, 15)          0         \n",
      "_________________________________________________________________\n",
      "flatten_11 (Flatten)         (None, 375)               0         \n",
      "_________________________________________________________________\n",
      "dense_37 (Dense)             (None, 128)               48128     \n",
      "_________________________________________________________________\n",
      "dense_38 (Dense)             (None, 50)                6450      \n",
      "_________________________________________________________________\n",
      "dense_39 (Dense)             (None, 10)                510       \n",
      "=================================================================\n",
      "Total params: 59,933\n",
      "Trainable params: 59,933\n",
      "Non-trainable params: 0\n",
      "_________________________________________________________________\n"
     ]
    }
   ],
   "source": [
    "L_cnn = Sequential()\n",
    "L_cnn.add(Conv2D(30, (5, 5), input_shape=(28, 28,1), activation='relu'))\n",
    "L_cnn.add(MaxPooling2D(pool_size=(2, 2)))\n",
    "L_cnn.add(Conv2D(15, (3, 3), activation='relu'))\n",
    "L_cnn.add(MaxPooling2D(pool_size=(2, 2)))\n",
    "L_cnn.add(Dropout(0.2))\n",
    "L_cnn.add(Flatten())\n",
    "L_cnn.add(Dense(128, activation='relu'))\n",
    "L_cnn.add(Dense(50, activation='relu'))\n",
    "L_cnn.add(Dense(num_classes, activation='softmax'))\n",
    "# Compile model\n",
    "L_cnn.compile(loss='categorical_crossentropy', optimizer='adam', metrics=['accuracy'])\n",
    "L_cnn.summary()"
   ]
  },
  {
   "cell_type": "code",
   "execution_count": 146,
   "metadata": {},
   "outputs": [
    {
     "name": "stdout",
     "output_type": "stream",
     "text": [
      "Epoch 1/10\n",
      "60000/60000 [==============================] - 62s 1ms/step - loss: 0.2429 - acc: 0.9239\n",
      "Epoch 2/10\n",
      "60000/60000 [==============================] - 58s 959us/step - loss: 0.0707 - acc: 0.9776\n",
      "Epoch 3/10\n",
      "60000/60000 [==============================] - 58s 967us/step - loss: 0.0547 - acc: 0.9828\n",
      "Epoch 4/10\n",
      "60000/60000 [==============================] - 62s 1ms/step - loss: 0.0469 - acc: 0.9850\n",
      "Epoch 5/10\n",
      "60000/60000 [==============================] - 67s 1ms/step - loss: 0.0391 - acc: 0.9874\n",
      "Epoch 6/10\n",
      "60000/60000 [==============================] - 60s 994us/step - loss: 0.0343 - acc: 0.9890\n",
      "Epoch 7/10\n",
      "60000/60000 [==============================] - 60s 1ms/step - loss: 0.0308 - acc: 0.9899\n",
      "Epoch 8/10\n",
      "60000/60000 [==============================] - 66s 1ms/step - loss: 0.0271 - acc: 0.9914: 1s - loss: 0.\n",
      "Epoch 9/10\n",
      "60000/60000 [==============================] - 68s 1ms/step - loss: 0.0257 - acc: 0.9913\n",
      "Epoch 10/10\n",
      "60000/60000 [==============================] - 65s 1ms/step - loss: 0.0227 - acc: 0.9921\n"
     ]
    },
    {
     "data": {
      "text/plain": [
       "<keras.callbacks.History at 0x2238a3b1898>"
      ]
     },
     "execution_count": 146,
     "metadata": {},
     "output_type": "execute_result"
    }
   ],
   "source": [
    "L_cnn.fit(x_train, y_train,batch_size=batch_size, epochs=epochs, shuffle=True,verbose=1)"
   ]
  },
  {
   "cell_type": "markdown",
   "metadata": {},
   "source": [
    "## Evaluate Larger CNN model "
   ]
  },
  {
   "cell_type": "code",
   "execution_count": 169,
   "metadata": {},
   "outputs": [
    {
     "name": "stdout",
     "output_type": "stream",
     "text": [
      "Large CNN Error: 97.49%\n"
     ]
    }
   ],
   "source": [
    "score = L_cnn.evaluate(x_test, y_test, verbose = 0)\n",
    "print(\"Large CNN Error: %.2f%%\" % (100-score[0]*100))"
   ]
  },
  {
   "cell_type": "code",
   "execution_count": null,
   "metadata": {
    "collapsed": true
   },
   "outputs": [],
   "source": []
  }
 ],
 "metadata": {
  "kernelspec": {
   "display_name": "Python 3",
   "language": "python",
   "name": "python3"
  },
  "language_info": {
   "codemirror_mode": {
    "name": "ipython",
    "version": 3
   },
   "file_extension": ".py",
   "mimetype": "text/x-python",
   "name": "python",
   "nbconvert_exporter": "python",
   "pygments_lexer": "ipython3",
   "version": "3.5.4"
  }
 },
 "nbformat": 4,
 "nbformat_minor": 2
}
